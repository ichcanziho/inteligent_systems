{
  "nbformat": 4,
  "nbformat_minor": 0,
  "metadata": {
    "colab": {
      "name": "genetic_algorithm_magic_square.ipynb",
      "provenance": []
    },
    "kernelspec": {
      "name": "python3",
      "display_name": "Python 3"
    },
    "language_info": {
      "name": "python"
    }
  },
  "cells": [
    {
      "cell_type": "code",
      "metadata": {
        "id": "Nt9gWaeqqJe4"
      },
      "source": [
        "import random\n",
        "import numpy as np\n",
        "import matplotlib.pyplot"
      ],
      "execution_count": 2,
      "outputs": []
    },
    {
      "cell_type": "code",
      "metadata": {
        "id": "XZhKt2G-sNav"
      },
      "source": [
        "def evaluate(board):\n",
        "  cost = 0\n",
        "  fila1 = sum(int(i) for i in board[0:4])\n",
        "  fila2 = sum(int(i) for i in board[4:8])\n",
        "  fila3 = sum(int(i) for i in board[8:12])\n",
        "  fila4 = sum(int(i) for i in board[12:16])\n",
        "\n",
        "  col1 = board[0] + board[4] + board[8] + board[12]\n",
        "  col2 = board[1] + board[5] + board[9] + board[13]\n",
        "  col3 = board[2] + board[6] + board[10] + board[14]\n",
        "  col4 = board[3] + board[7] + board[11] + board[15]\n",
        "\n",
        "  diag1 = board[0] + board[5] + board[10] + board[15]\n",
        "  diag2 = board[3] + board[6] + board[9] + board[12]\n",
        "\n",
        "  l = [fila1, fila2, fila3, fila4, col1, col2, col3, col4, diag1, diag2]\n",
        "  for el in l:  cost += abs(34 - el)\n",
        "  return cost"
      ],
      "execution_count": 3,
      "outputs": []
    },
    {
      "cell_type": "code",
      "metadata": {
        "id": "tmQGhrtqm1VC"
      },
      "source": [
        "def select(population, evaluation, tSize):\n",
        "  winner = np.random.randint(0, len(population))\n",
        "  for i in range(tSize - 1):\n",
        "    rival = np.random.randint(0, len(population))\n",
        "    if (evaluation[rival] < evaluation[winner]): # esta buscando la que minimice la evaluación, con menor costo\n",
        "      winner = rival\n",
        "  return population[winner]"
      ],
      "execution_count": 4,
      "outputs": []
    },
    {
      "cell_type": "code",
      "metadata": {
        "colab": {
          "base_uri": "https://localhost:8080/"
        },
        "id": "BtOwpCnnqw2q",
        "outputId": "0edbdde3-fd07-46a2-ec95-7a81191919c0"
      },
      "source": [
        "def generateRandomSquare(n):\n",
        "  l = [y for y in range(1,(n*n)+1)]\n",
        "  random.shuffle(l)\n",
        "  return l\n",
        "print(generateRandomSquare(4))"
      ],
      "execution_count": 5,
      "outputs": [
        {
          "output_type": "stream",
          "name": "stdout",
          "text": [
            "[15, 11, 1, 9, 13, 4, 16, 6, 12, 14, 8, 7, 2, 10, 5, 3]\n"
          ]
        }
      ]
    },
    {
      "cell_type": "code",
      "metadata": {
        "colab": {
          "base_uri": "https://localhost:8080/"
        },
        "id": "FVqBoNleun_Y",
        "outputId": "3754c4d3-0074-4bd1-e7b5-c4738e659cd2"
      },
      "source": [
        "def inversionSequence(l):\n",
        "  listofzeros = [0] * len(l)\n",
        "  for i in range (1,len(l)+1):\n",
        "    s = 0\n",
        "    for j in range(0, l.index(i)):\n",
        "      if l[j] > i: s+= 1\n",
        "    listofzeros[i - 1] = s\n",
        "  return listofzeros  \n",
        "print(inversionSequence([2, 7, 6, 9, 5, 1, 4, 3, 8]))"
      ],
      "execution_count": 6,
      "outputs": [
        {
          "output_type": "stream",
          "name": "stdout",
          "text": [
            "[5, 0, 5, 4, 3, 1, 0, 1, 0]\n"
          ]
        }
      ]
    },
    {
      "cell_type": "code",
      "metadata": {
        "id": "Zq19PXGhx4bB"
      },
      "source": [
        "def crossover(p1,p2,crossover_point):\n",
        "  crossover_point = int(crossover_point)\n",
        "  return [item for sublist in [p1[0:crossover_point+1],p2[crossover_point+1:]] for item in sublist], [item for sublist in [p2[0:crossover_point+1],p1[crossover_point+1:]] for item in sublist]"
      ],
      "execution_count": 7,
      "outputs": []
    },
    {
      "cell_type": "code",
      "metadata": {
        "colab": {
          "base_uri": "https://localhost:8080/"
        },
        "id": "oEm4gaXw2pd1",
        "outputId": "d22471bc-d2c7-46e3-f4b4-ad835ed2351d"
      },
      "source": [
        "def antiInversion(l):\n",
        "  listofzeros = [0] * len(l)\n",
        "  sq = [0] * len(l)\n",
        "  listofzeros[-1] = l[-1]\n",
        "  for i in reversed(range(len(l)-1)):\n",
        "    listofzeros[i] = l[i]\n",
        "    for j in range(i+1,len(l)):\n",
        "      if listofzeros[i] <=  listofzeros[j]:\n",
        "        listofzeros[j]+=1\n",
        "  for i in range(0,len(listofzeros)):\n",
        "    sq[listofzeros[i]] = i +1  \n",
        "  return sq\n",
        "print(antiInversion([5, 0, 5, 4, 3, 1, 2, 1, 0]))"
      ],
      "execution_count": 8,
      "outputs": [
        {
          "output_type": "stream",
          "name": "stdout",
          "text": [
            "[2, 9, 6, 8, 5, 1, 4, 3, 7]\n"
          ]
        }
      ]
    },
    {
      "cell_type": "code",
      "metadata": {
        "id": "dfWjVoWIq91G"
      },
      "source": [
        "def combine(parentA, parentB, cRate):\n",
        "  import random\n",
        "  # REPLACE with the actual code to combine two individuals\n",
        "  if random.random() < cRate:\n",
        "    newA = inversionSequence(parentA)\n",
        "    newB = inversionSequence(parentB)\n",
        "    offspringA, offspringB = crossover(newA,newB,cRate)\n",
        "    offspringA = antiInversion(offspringA)\n",
        "    offspringB = antiInversion(offspringB)\n",
        "  else:\n",
        "    offspringA = parentA.copy()\n",
        "    offspringB = parentB.copy()\n",
        "  return offspringA, offspringB"
      ],
      "execution_count": 9,
      "outputs": []
    },
    {
      "cell_type": "code",
      "metadata": {
        "id": "q3jlZqI0sKvj"
      },
      "source": [
        "def mutate(individual, mRate):\n",
        "  # REPLACE with the actual code to mutate an individual\n",
        "  if random.random() < mRate:\n",
        "    i, j = random.sample(range(0, 16), 2)\n",
        "    individual[i], individual[j] = individual[j], individual[i]\n",
        "  return individual"
      ],
      "execution_count": 10,
      "outputs": []
    },
    {
      "cell_type": "code",
      "metadata": {
        "id": "zVDM3vfcA9J7"
      },
      "source": [
        "def geneticAlgorithm(pSize, gens, cRate, mRate):\n",
        "  # Creates the initial population\n",
        "  population = [None] * pSize\n",
        "  evaluation = [None] * pSize\n",
        "  for i in range(pSize):\n",
        "    population[i] = generateRandomSquare(4)\n",
        "    evaluation[i] = evaluate(population[i])\n",
        "  # Keeps a record of the best individual found so far\n",
        "  index = 0;\n",
        "  for i in range(1, pSize):\n",
        "    if (evaluation[i] < evaluation[index]):\n",
        "      index = i;\n",
        "  bestIndividual = population[index]\n",
        "  bestEvaluation = evaluation[index]\n",
        "  # Keeps the information for plotting the performance of the algorithm\n",
        "  best = [0] * gens\n",
        "  avg = [0] * gens\n",
        "  # Runs the evolutionary process\n",
        "  for i in range(gens):\n",
        "    k = 0\n",
        "    newPopulation = [None] * pSize\n",
        "    # Crossover\n",
        "    for j in range(pSize // 2):\n",
        "      parentA = select(population, evaluation, 3)\n",
        "      parentB = select(population, evaluation, 3)\n",
        "      offspring1, offspring2 = combine(parentA, parentB, cRate)\n",
        "      newPopulation[k] = offspring1\n",
        "      newPopulation[k + 1] = offspring2\n",
        "      k = k + 2\n",
        "    population = newPopulation\n",
        "    # Mutation\n",
        "    for j in range(pSize):\n",
        "      population[j] = mutate(population[j], mRate)\n",
        "      evaluation[j] = evaluate(population[j])\n",
        "      # Keeps a record of the best individual found so far\n",
        "      if (evaluation[j] < bestEvaluation):\n",
        "        bestEvaluation = evaluation[j]\n",
        "        bestIndividual = population[j]\n",
        "      best[i] = bestEvaluation\n",
        "      avg[i] = np.average(evaluation)\n",
        "  matplotlib.pyplot.plot(range(gens), best, label = \"Best\")\n",
        "  matplotlib.pyplot.plot(range(gens), avg, label = \"Average\")\n",
        "  matplotlib.pyplot.legend()\n",
        "  matplotlib.pyplot.title(\"GA Run\")\n",
        "  matplotlib.pyplot.show()\n",
        "  # Returns the best individual found so far\n",
        "  return bestIndividual, bestEvaluation   "
      ],
      "execution_count": 11,
      "outputs": []
    },
    {
      "cell_type": "code",
      "metadata": {
        "colab": {
          "base_uri": "https://localhost:8080/",
          "height": 315
        },
        "id": "17BfvB-6vpOk",
        "outputId": "776552cb-0015-44d2-cc80-e1fa663a7337"
      },
      "source": [
        "# Tests\n",
        "# =======================\n",
        "solution, eval = geneticAlgorithm(100, 250, 1.0, 0.25)\n",
        "print(solution)\n",
        "print(eval)"
      ],
      "execution_count": 18,
      "outputs": [
        {
          "output_type": "display_data",
          "data": {
            "image/png": "[encoded data removed]",
            "text/plain": [
              "<Figure size 432x288 with 1 Axes>"
            ]
          },
          "metadata": {
            "needs_background": "light"
          }
        },
        {
          "output_type": "stream",
          "name": "stdout",
          "text": [
            "[13, 11, 8, 2, 3, 5, 16, 10, 14, 12, 1, 7, 4, 6, 9, 15]\n",
            "0\n"
          ]
        }
      ]
    }
  ]
}